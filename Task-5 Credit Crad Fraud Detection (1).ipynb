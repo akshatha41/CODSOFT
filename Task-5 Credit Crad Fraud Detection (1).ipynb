{
 "cells": [
  {
   "cell_type": "code",
   "execution_count": 1,
   "id": "bb8d4042",
   "metadata": {
    "papermill": {
     "duration": 4.104153,
     "end_time": "2025-10-25T17:57:27.773803",
     "exception": false,
     "start_time": "2025-10-25T17:57:23.669650",
     "status": "completed"
    },
    "tags": []
   },
   "outputs": [],
   "source": [
    "import pandas as pd\n",
    "import numpy as np\n",
    "import matplotlib.pyplot as plt\n",
    "import seaborn as sns\n",
    "from sklearn.preprocessing import StandardScaler\n",
    "from sklearn.model_selection import train_test_split\n",
    "from sklearn.linear_model import LogisticRegression\n",
    "from sklearn.svm import SVC\n",
    "from sklearn.metrics import classification_report, confusion_matrix"
   ]
  },
  {
   "cell_type": "markdown",
   "id": "648e7a54",
   "metadata": {
    "papermill": {
     "duration": 0.003317,
     "end_time": "2025-10-25T17:57:27.782279",
     "exception": false,
     "start_time": "2025-10-25T17:57:27.778962",
     "status": "completed"
    },
    "tags": []
   },
   "source": [
    "Loading Dataset"
   ]
  },
  {
   "cell_type": "code",
   "execution_count": 8,
   "id": "5607ea71",
   "metadata": {
    "papermill": {
     "duration": 3.944251,
     "end_time": "2025-10-25T17:57:31.730201",
     "exception": false,
     "start_time": "2025-10-25T17:57:27.785950",
     "status": "completed"
    },
    "tags": []
   },
   "outputs": [
    {
     "data": {
      "text/html": [
       "<div>\n",
       "<style scoped>\n",
       "    .dataframe tbody tr th:only-of-type {\n",
       "        vertical-align: middle;\n",
       "    }\n",
       "\n",
       "    .dataframe tbody tr th {\n",
       "        vertical-align: top;\n",
       "    }\n",
       "\n",
       "    .dataframe thead th {\n",
       "        text-align: right;\n",
       "    }\n",
       "</style>\n",
       "<table border=\"1\" class=\"dataframe\">\n",
       "  <thead>\n",
       "    <tr style=\"text-align: right;\">\n",
       "      <th></th>\n",
       "      <th>Time</th>\n",
       "      <th>V1</th>\n",
       "      <th>V2</th>\n",
       "      <th>V3</th>\n",
       "      <th>V4</th>\n",
       "      <th>V5</th>\n",
       "      <th>V6</th>\n",
       "      <th>V7</th>\n",
       "      <th>V8</th>\n",
       "      <th>V9</th>\n",
       "      <th>...</th>\n",
       "      <th>V21</th>\n",
       "      <th>V22</th>\n",
       "      <th>V23</th>\n",
       "      <th>V24</th>\n",
       "      <th>V25</th>\n",
       "      <th>V26</th>\n",
       "      <th>V27</th>\n",
       "      <th>V28</th>\n",
       "      <th>Amount</th>\n",
       "      <th>Class</th>\n",
       "    </tr>\n",
       "  </thead>\n",
       "  <tbody>\n",
       "    <tr>\n",
       "      <th>0</th>\n",
       "      <td>0.0</td>\n",
       "      <td>-1.359807</td>\n",
       "      <td>-0.072781</td>\n",
       "      <td>2.536347</td>\n",
       "      <td>1.378155</td>\n",
       "      <td>-0.338321</td>\n",
       "      <td>0.462388</td>\n",
       "      <td>0.239599</td>\n",
       "      <td>0.098698</td>\n",
       "      <td>0.363787</td>\n",
       "      <td>...</td>\n",
       "      <td>-0.018307</td>\n",
       "      <td>0.277838</td>\n",
       "      <td>-0.110474</td>\n",
       "      <td>0.066928</td>\n",
       "      <td>0.128539</td>\n",
       "      <td>-0.189115</td>\n",
       "      <td>0.133558</td>\n",
       "      <td>-0.021053</td>\n",
       "      <td>149.62</td>\n",
       "      <td>0</td>\n",
       "    </tr>\n",
       "    <tr>\n",
       "      <th>1</th>\n",
       "      <td>0.0</td>\n",
       "      <td>1.191857</td>\n",
       "      <td>0.266151</td>\n",
       "      <td>0.166480</td>\n",
       "      <td>0.448154</td>\n",
       "      <td>0.060018</td>\n",
       "      <td>-0.082361</td>\n",
       "      <td>-0.078803</td>\n",
       "      <td>0.085102</td>\n",
       "      <td>-0.255425</td>\n",
       "      <td>...</td>\n",
       "      <td>-0.225775</td>\n",
       "      <td>-0.638672</td>\n",
       "      <td>0.101288</td>\n",
       "      <td>-0.339846</td>\n",
       "      <td>0.167170</td>\n",
       "      <td>0.125895</td>\n",
       "      <td>-0.008983</td>\n",
       "      <td>0.014724</td>\n",
       "      <td>2.69</td>\n",
       "      <td>0</td>\n",
       "    </tr>\n",
       "    <tr>\n",
       "      <th>2</th>\n",
       "      <td>1.0</td>\n",
       "      <td>-1.358354</td>\n",
       "      <td>-1.340163</td>\n",
       "      <td>1.773209</td>\n",
       "      <td>0.379780</td>\n",
       "      <td>-0.503198</td>\n",
       "      <td>1.800499</td>\n",
       "      <td>0.791461</td>\n",
       "      <td>0.247676</td>\n",
       "      <td>-1.514654</td>\n",
       "      <td>...</td>\n",
       "      <td>0.247998</td>\n",
       "      <td>0.771679</td>\n",
       "      <td>0.909412</td>\n",
       "      <td>-0.689281</td>\n",
       "      <td>-0.327642</td>\n",
       "      <td>-0.139097</td>\n",
       "      <td>-0.055353</td>\n",
       "      <td>-0.059752</td>\n",
       "      <td>378.66</td>\n",
       "      <td>0</td>\n",
       "    </tr>\n",
       "    <tr>\n",
       "      <th>3</th>\n",
       "      <td>1.0</td>\n",
       "      <td>-0.966272</td>\n",
       "      <td>-0.185226</td>\n",
       "      <td>1.792993</td>\n",
       "      <td>-0.863291</td>\n",
       "      <td>-0.010309</td>\n",
       "      <td>1.247203</td>\n",
       "      <td>0.237609</td>\n",
       "      <td>0.377436</td>\n",
       "      <td>-1.387024</td>\n",
       "      <td>...</td>\n",
       "      <td>-0.108300</td>\n",
       "      <td>0.005274</td>\n",
       "      <td>-0.190321</td>\n",
       "      <td>-1.175575</td>\n",
       "      <td>0.647376</td>\n",
       "      <td>-0.221929</td>\n",
       "      <td>0.062723</td>\n",
       "      <td>0.061458</td>\n",
       "      <td>123.50</td>\n",
       "      <td>0</td>\n",
       "    </tr>\n",
       "    <tr>\n",
       "      <th>4</th>\n",
       "      <td>2.0</td>\n",
       "      <td>-1.158233</td>\n",
       "      <td>0.877737</td>\n",
       "      <td>1.548718</td>\n",
       "      <td>0.403034</td>\n",
       "      <td>-0.407193</td>\n",
       "      <td>0.095921</td>\n",
       "      <td>0.592941</td>\n",
       "      <td>-0.270533</td>\n",
       "      <td>0.817739</td>\n",
       "      <td>...</td>\n",
       "      <td>-0.009431</td>\n",
       "      <td>0.798278</td>\n",
       "      <td>-0.137458</td>\n",
       "      <td>0.141267</td>\n",
       "      <td>-0.206010</td>\n",
       "      <td>0.502292</td>\n",
       "      <td>0.219422</td>\n",
       "      <td>0.215153</td>\n",
       "      <td>69.99</td>\n",
       "      <td>0</td>\n",
       "    </tr>\n",
       "  </tbody>\n",
       "</table>\n",
       "<p>5 rows × 31 columns</p>\n",
       "</div>"
      ],
      "text/plain": [
       "   Time        V1        V2        V3        V4        V5        V6        V7  \\\n",
       "0   0.0 -1.359807 -0.072781  2.536347  1.378155 -0.338321  0.462388  0.239599   \n",
       "1   0.0  1.191857  0.266151  0.166480  0.448154  0.060018 -0.082361 -0.078803   \n",
       "2   1.0 -1.358354 -1.340163  1.773209  0.379780 -0.503198  1.800499  0.791461   \n",
       "3   1.0 -0.966272 -0.185226  1.792993 -0.863291 -0.010309  1.247203  0.237609   \n",
       "4   2.0 -1.158233  0.877737  1.548718  0.403034 -0.407193  0.095921  0.592941   \n",
       "\n",
       "         V8        V9  ...       V21       V22       V23       V24       V25  \\\n",
       "0  0.098698  0.363787  ... -0.018307  0.277838 -0.110474  0.066928  0.128539   \n",
       "1  0.085102 -0.255425  ... -0.225775 -0.638672  0.101288 -0.339846  0.167170   \n",
       "2  0.247676 -1.514654  ...  0.247998  0.771679  0.909412 -0.689281 -0.327642   \n",
       "3  0.377436 -1.387024  ... -0.108300  0.005274 -0.190321 -1.175575  0.647376   \n",
       "4 -0.270533  0.817739  ... -0.009431  0.798278 -0.137458  0.141267 -0.206010   \n",
       "\n",
       "        V26       V27       V28  Amount  Class  \n",
       "0 -0.189115  0.133558 -0.021053  149.62      0  \n",
       "1  0.125895 -0.008983  0.014724    2.69      0  \n",
       "2 -0.139097 -0.055353 -0.059752  378.66      0  \n",
       "3 -0.221929  0.062723  0.061458  123.50      0  \n",
       "4  0.502292  0.219422  0.215153   69.99      0  \n",
       "\n",
       "[5 rows x 31 columns]"
      ]
     },
     "execution_count": 8,
     "metadata": {},
     "output_type": "execute_result"
    }
   ],
   "source": [
    "data = pd.read_csv(r\"C:\\Users\\banur\\Downloads\\creditcard.csv\\creditcard.csv\")\n",
    "data.head()"
   ]
  },
  {
   "cell_type": "markdown",
   "id": "72dd91af",
   "metadata": {
    "papermill": {
     "duration": 0.003554,
     "end_time": "2025-10-25T17:57:31.738035",
     "exception": false,
     "start_time": "2025-10-25T17:57:31.734481",
     "status": "completed"
    },
    "tags": []
   },
   "source": [
    "Checking Balance"
   ]
  },
  {
   "cell_type": "code",
   "execution_count": 3,
   "id": "bb4a3be5",
   "metadata": {
    "execution": {
     "iopub.execute_input": "2025-10-25T17:57:31.747202Z",
     "iopub.status.busy": "2025-10-25T17:57:31.746870Z",
     "iopub.status.idle": "2025-10-25T17:57:31.978054Z",
     "shell.execute_reply": "2025-10-25T17:57:31.976958Z"
    },
    "papermill": {
     "duration": 0.237565,
     "end_time": "2025-10-25T17:57:31.979632",
     "exception": false,
     "start_time": "2025-10-25T17:57:31.742067",
     "status": "completed"
    },
    "tags": []
   },
   "outputs": [
    {
     "name": "stdout",
     "output_type": "stream",
     "text": [
      "Class\n",
      "0    284315\n",
      "1       492\n",
      "Name: count, dtype: int64\n"
     ]
    },
    {
     "data": {
      "image/png": "[encoded data removed]",
      "text/plain": [
       "<Figure size 640x480 with 1 Axes>"
      ]
     },
     "metadata": {},
     "output_type": "display_data"
    }
   ],
   "source": [
    "print(data['Class'].value_counts())\n",
    "sns.countplot(x='Class', data=data)\n",
    "plt.show()\n"
   ]
  },
  {
   "cell_type": "markdown",
   "id": "7b9f9ec9",
   "metadata": {
    "papermill": {
     "duration": 0.003688,
     "end_time": "2025-10-25T17:57:31.987666",
     "exception": false,
     "start_time": "2025-10-25T17:57:31.983978",
     "status": "completed"
    },
    "tags": []
   },
   "source": [
    "As we see the data is highly imbalanced"
   ]
  },
  {
   "cell_type": "markdown",
   "id": "b22783e3",
   "metadata": {
    "papermill": {
     "duration": 0.003481,
     "end_time": "2025-10-25T17:57:31.994952",
     "exception": false,
     "start_time": "2025-10-25T17:57:31.991471",
     "status": "completed"
    },
    "tags": []
   },
   "source": [
    "Separating X and Y's"
   ]
  },
  {
   "cell_type": "code",
   "execution_count": 11,
   "id": "880649cf",
   "metadata": {
    "papermill": {
     "duration": 0.041011,
     "end_time": "2025-10-25T17:57:32.039692",
     "exception": false,
     "start_time": "2025-10-25T17:57:31.998681",
     "status": "completed"
    },
    "tags": []
   },
   "outputs": [],
   "source": [
    "X = data.drop('Class', axis=1)\n",
    "y = data['Class']"
   ]
  },
  {
   "cell_type": "markdown",
   "id": "8a30360e",
   "metadata": {
    "papermill": {
     "duration": 0.003619,
     "end_time": "2025-10-25T17:57:32.047361",
     "exception": false,
     "start_time": "2025-10-25T17:57:32.043742",
     "status": "completed"
    },
    "tags": []
   },
   "source": [
    "Scale Features"
   ]
  },
  {
   "cell_type": "code",
   "execution_count": 13,
   "id": "7c9d4468",
   "metadata": {
    "papermill": {
     "duration": 0.183448,
     "end_time": "2025-10-25T17:57:32.234822",
     "exception": false,
     "start_time": "2025-10-25T17:57:32.051374",
     "status": "completed"
    },
    "tags": []
   },
   "outputs": [],
   "source": [
    "scaler = StandardScaler()\n",
    "X_scaled = scaler.fit_transform(X)"
   ]
  },
  {
   "cell_type": "markdown",
   "id": "805c5a3a",
   "metadata": {
    "papermill": {
     "duration": 0.003618,
     "end_time": "2025-10-25T17:57:32.242690",
     "exception": false,
     "start_time": "2025-10-25T17:57:32.239072",
     "status": "completed"
    },
    "tags": []
   },
   "source": [
    "Splitting the data"
   ]
  },
  {
   "cell_type": "code",
   "execution_count": 16,
   "id": "15ed8b3b",
   "metadata": {
    "papermill": {
     "duration": 0.229332,
     "end_time": "2025-10-25T17:57:32.475803",
     "exception": false,
     "start_time": "2025-10-25T17:57:32.246471",
     "status": "completed"
    },
    "tags": []
   },
   "outputs": [],
   "source": [
    "X_train, X_test, y_train, y_test = train_test_split(\n",
    "    X_scaled, y, test_size=0.2, random_state=42, stratify=y\n",
    ")"
   ]
  },
  {
   "cell_type": "markdown",
   "id": "4a8daf53",
   "metadata": {
    "papermill": {
     "duration": 0.004053,
     "end_time": "2025-10-25T17:57:32.484006",
     "exception": false,
     "start_time": "2025-10-25T17:57:32.479953",
     "status": "completed"
    },
    "tags": []
   },
   "source": [
    "Train Logistic Regression"
   ]
  },
  {
   "cell_type": "code",
   "execution_count": 29,
   "id": "0fb038d8",
   "metadata": {
    "papermill": {
     "duration": 2.073009,
     "end_time": "2025-10-25T17:57:34.560904",
     "exception": false,
     "start_time": "2025-10-25T17:57:32.487895",
     "status": "completed"
    },
    "tags": []
   },
   "outputs": [
    {
     "name": "stdout",
     "output_type": "stream",
     "text": [
      "[0 0 0 ... 0 0 0]\n"
     ]
    }
   ],
   "source": [
    "lr = LogisticRegression(class_weight='balanced', max_iter=1000)\n",
    "lr.fit(X_train, y_train)\n",
    "y_pred_lr = lr.predict(X_test)\n",
    "print(y_pred_lr)"
   ]
  },
  {
   "cell_type": "markdown",
   "id": "3bf947bf",
   "metadata": {
    "papermill": {
     "duration": 0.005918,
     "end_time": "2025-10-25T17:57:34.573110",
     "exception": false,
     "start_time": "2025-10-25T17:57:34.567192",
     "status": "completed"
    },
    "tags": []
   },
   "source": [
    "Train SVM"
   ]
  },
  {
   "cell_type": "code",
   "execution_count": 31,
   "id": "dc40ea36",
   "metadata": {
    "papermill": {
     "duration": 25.425186,
     "end_time": "2025-10-25T17:58:00.004628",
     "exception": false,
     "start_time": "2025-10-25T17:57:34.579442",
     "status": "completed"
    },
    "tags": []
   },
   "outputs": [],
   "source": [
    "X_small = X_train[:30000]\n",
    "y_small = y_train[:30000]\n",
    "\n",
    "svm = SVC(kernel='linear', class_weight='balanced')\n",
    "svm.fit(X_small, y_small)\n",
    "y_pred_svm = svm.predict(X_test)"
   ]
  },
  {
   "cell_type": "code",
   "execution_count": 33,
   "id": "810a6548",
   "metadata": {
    "papermill": {
     "duration": 0.518441,
     "end_time": "2025-10-25T17:58:00.527124",
     "exception": false,
     "start_time": "2025-10-25T17:58:00.008683",
     "status": "completed"
    },
    "tags": []
   },
   "outputs": [
    {
     "name": "stdout",
     "output_type": "stream",
     "text": [
      "=== Logistic Regression ===\n",
      "              precision    recall  f1-score   support\n",
      "\n",
      "           0       1.00      0.98      0.99     56864\n",
      "           1       0.06      0.92      0.11        98\n",
      "\n",
      "    accuracy                           0.98     56962\n",
      "   macro avg       0.53      0.95      0.55     56962\n",
      "weighted avg       1.00      0.98      0.99     56962\n",
      "\n"
     ]
    },
    {
     "data": {
      "image/png": "[encoded data removed]",
      "text/plain": [
       "<Figure size 640x480 with 2 Axes>"
      ]
     },
     "metadata": {},
     "output_type": "display_data"
    },
    {
     "name": "stdout",
     "output_type": "stream",
     "text": [
      "=== Support Vector Machine ===\n",
      "              precision    recall  f1-score   support\n",
      "\n",
      "           0       1.00      0.95      0.97     56864\n",
      "           1       0.03      0.90      0.05        98\n",
      "\n",
      "    accuracy                           0.95     56962\n",
      "   macro avg       0.51      0.92      0.51     56962\n",
      "weighted avg       1.00      0.95      0.97     56962\n",
      "\n"
     ]
    },
    {
     "data": {
      "image/png": "[encoded data removed]",
      "text/plain": [
       "<Figure size 640x480 with 2 Axes>"
      ]
     },
     "metadata": {},
     "output_type": "display_data"
    }
   ],
   "source": [
    "def evaluate_model(y_true, y_pred, model_name):\n",
    "    print(f\"=== {model_name} ===\")\n",
    "    print(classification_report(y_true, y_pred))\n",
    "    cm = confusion_matrix(y_true, y_pred)\n",
    "    sns.heatmap(cm, annot=True, fmt='d')\n",
    "    plt.title(f\"Confusion Matrix - {model_name}\")\n",
    "    plt.xlabel(\"Predicted\")\n",
    "    plt.ylabel(\"Actual\")\n",
    "    plt.show()\n",
    "\n",
    "evaluate_model(y_test, y_pred_lr, \"Logistic Regression\")\n",
    "evaluate_model(y_test, y_pred_svm, \"Support Vector Machine\")\n"
   ]
  },
  {
   "cell_type": "code",
   "execution_count": 37,
   "id": "3f77931d-86c2-4ef5-a53b-52e982aabf64",
   "metadata": {},
   "outputs": [
    {
     "name": "stdout",
     "output_type": "stream",
     "text": [
      "Confusion matrix for Logistic Regression : \n",
      " [[55474  1390]\n",
      " [    8    90]]\n"
     ]
    }
   ],
   "source": [
    "print(f\"Confusion matrix for Logistic Regression : \\n\",confusion_matrix(y_test,y_pred_lr))"
   ]
  },
  {
   "cell_type": "code",
   "execution_count": 39,
   "id": "b4549488-b13d-4878-9302-7d4027b6bd92",
   "metadata": {},
   "outputs": [
    {
     "name": "stdout",
     "output_type": "stream",
     "text": [
      "Classification report for Logistic Regression : \n",
      "               precision    recall  f1-score   support\n",
      "\n",
      "           0       1.00      0.98      0.99     56864\n",
      "           1       0.06      0.92      0.11        98\n",
      "\n",
      "    accuracy                           0.98     56962\n",
      "   macro avg       0.53      0.95      0.55     56962\n",
      "weighted avg       1.00      0.98      0.99     56962\n",
      "\n"
     ]
    }
   ],
   "source": [
    "print(f\"Classification report for Logistic Regression : \\n\",classification_report(y_test,y_pred_lr))"
   ]
  },
  {
   "cell_type": "code",
   "execution_count": null,
   "id": "78a7a641-5b1b-4674-add8-5327e0e7ddd8",
   "metadata": {},
   "outputs": [],
   "source": []
  }
 ],
 "metadata": {
  "kaggle": {
   "accelerator": "none",
   "dataSources": [
    {
     "datasetId": 310,
     "sourceId": 23498,
     "sourceType": "datasetVersion"
    }
   ],
   "dockerImageVersionId": 31153,
   "isGpuEnabled": false,
   "isInternetEnabled": false,
   "language": "python",
   "sourceType": "notebook"
  },
  "kernelspec": {
   "display_name": "Python [conda env:base] *",
   "language": "python",
   "name": "conda-base-py"
  },
  "language_info": {
   "codemirror_mode": {
    "name": "ipython",
    "version": 3
   },
   "file_extension": ".py",
   "mimetype": "text/x-python",
   "name": "python",
   "nbconvert_exporter": "python",
   "pygments_lexer": "ipython3",
   "version": "3.12.7"
  },
  "papermill": {
   "default_parameters": {},
   "duration": 42.298901,
   "end_time": "2025-10-25T17:58:01.252037",
   "environment_variables": {},
   "exception": null,
   "input_path": "__notebook__.ipynb",
   "output_path": "__notebook__.ipynb",
   "parameters": {},
   "start_time": "2025-10-25T17:57:18.953136",
   "version": "2.6.0"
  }
 },
 "nbformat": 4,
 "nbformat_minor": 5
}
